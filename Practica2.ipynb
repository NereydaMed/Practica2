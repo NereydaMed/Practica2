{
  "nbformat": 4,
  "nbformat_minor": 0,
  "metadata": {
    "colab": {
      "name": "Practica2.ipynb",
      "provenance": [],
      "collapsed_sections": [],
      "authorship_tag": "ABX9TyPSYF5cTao+0Y6xJwtdPSSc",
      "include_colab_link": true
    },
    "kernelspec": {
      "name": "python3",
      "display_name": "Python 3"
    }
  },
  "cells": [
    {
      "cell_type": "markdown",
      "metadata": {
        "id": "view-in-github",
        "colab_type": "text"
      },
      "source": [
        "<a href=\"https://colab.research.google.com/github/NereydaMed/Practica2/blob/master/Practica2.ipynb\" target=\"_parent\"><img src=\"https://colab.research.google.com/assets/colab-badge.svg\" alt=\"Open In Colab\"/></a>"
      ]
    },
    {
      "cell_type": "code",
      "metadata": {
        "id": "39e64Ue9ixTv",
        "colab_type": "code",
        "colab": {
          "base_uri": "https://localhost:8080/",
          "height": 51
        },
        "outputId": "1e44de1d-1077-4120-91db-1177e646b740"
      },
      "source": [
        "import nltk\n",
        "nltk.download('stopwords')\n",
        "from nltk.corpus import stopwords\n",
        "from nltk.tokenize import word_tokenize \n",
        "from nltk.tokenize import RegexpTokenizer\n",
        "import numpy as np    \n",
        "from numpy import dot\n",
        "from numpy.linalg import norm\n",
        "import re\n"
      ],
      "execution_count": 9,
      "outputs": [
        {
          "output_type": "stream",
          "text": [
            "[nltk_data] Downloading package stopwords to /root/nltk_data...\n",
            "[nltk_data]   Package stopwords is already up-to-date!\n"
          ],
          "name": "stdout"
        }
      ]
    },
    {
      "cell_type": "code",
      "metadata": {
        "id": "6jnmh-kssdU1",
        "colab_type": "code",
        "colab": {}
      },
      "source": [
        "tokenizer = RegexpTokenizer(r'\\w+') #no entiendo para que es\n",
        "\n"
      ],
      "execution_count": 0,
      "outputs": []
    },
    {
      "cell_type": "code",
      "metadata": {
        "id": "vG3JGDFqsoSi",
        "colab_type": "code",
        "colab": {}
      },
      "source": [
        "#*Experimento1*\n",
        "#Preface Automated Machine Learning Methods, Systems, Challenges\n",
        "\n",
        "#Párrafo 1\n",
        "text_01 = \"¡Se une al #DíaSinMujeres! La cadena estadounidense Hooters publicó que contará con servicio de comida para llevar y servicio a domicilio, este último mediante Uber Eats\"\n",
        "\n",
        "#Párrafo 2\n",
        "text_02 = \"En vez de darles el día deberían dejar de cosificar a sus empleadas.\"\n",
        "\n",
        "#Párrafo 3\n",
        "text_03 = \"Contradictorio que apoye el paro de mujeres Rostro pensativo pero pida que su personal femenino utilice esos mini shorts y blusas scotadas por ahí debería empezar su cambio \"\n",
        "\n",
        "#https://twitter.com/sopitas/status/1236098576238997504 \n",
        "text_04 = \"La Selección Femenil de futbol le ganó a Haití y obtuvo su pase al mundial ¡Muchas felicidades! Poniendo el futbol de nuestro país en alto\"\n",
        "\n",
        "#https://twitter.com/meelycampos/status/1233640560444854272\n",
        "text_05 = \"Tengo 1 año 5 meses con mi novio y nunca ha querido subir una foto conmigo a ninguna red social. Cada like es un amiga date cuenta.\"\n",
        "\n",
        "#https://twitter.com/eileenOrnot/status/1233435752937246720\n",
        "text_06 = \"La tasa de mortalidad por feminicidio creció 138%. La del coronavirus es del 2%. O sea que si hoy en la noche te besuquearas a un guey infectado tienes más posibilidades de morir asesinada por el tipo que por el virus. Buenos días, República Mexicana.\""
      ],
      "execution_count": 0,
      "outputs": []
    },
    {
      "cell_type": "code",
      "metadata": {
        "id": "ypcXEVToxgc6",
        "colab_type": "code",
        "colab": {
          "base_uri": "https://localhost:8080/",
          "height": 71
        },
        "outputId": "4dfd998a-d2a4-4eb2-fa99-7966cbfe4c71"
      },
      "source": [
        "text_01_tokens = tokenizer.tokenize(text_01.lower()) #tokenizar y quitar signos de puntuación\n",
        "#print(text_01_tokens)\n",
        "\n",
        "text_01_tokens_wout_stopwords = []\n",
        "\n",
        "for word in text_01_tokens:\n",
        "    if word not in stopwords.words('english'): text_01_tokens_wout_stopwords.append(word)\n",
        "\n",
        "print(text_01_tokens_wout_stopwords)\n",
        "print(\"El texto tiene \",len(text_01_tokens_wout_stopwords), \"palabras.\")"
      ],
      "execution_count": 35,
      "outputs": [
        {
          "output_type": "stream",
          "text": [
            "['se', 'une', 'al', 'díasinmujeres', 'la', 'cadena', 'estadounidense', 'hooters', 'publicó', 'que', 'contará', 'con', 'servicio', 'de', 'comida', 'para', 'llevar', 'servicio', 'domicilio', 'este', 'último', 'mediante', 'uber', 'eats']\n",
            "El texto tiene  24 palabras.\n"
          ],
          "name": "stdout"
        }
      ]
    },
    {
      "cell_type": "code",
      "metadata": {
        "id": "Qmhzhm7Qxga8",
        "colab_type": "code",
        "colab": {
          "base_uri": "https://localhost:8080/",
          "height": 241
        },
        "outputId": "40ba7018-a8de-4d77-d43b-6e2c85dfcf43"
      },
      "source": [
        "textos=[text_01,text_02,text_03,text_04,text_05,text_06]\n",
        "text_tokens=[]\n",
        "x=0\n",
        "for element in textos:\n",
        "    text_tokens_ing = tokenizer.tokenize(textos[x].lower()) #tokenizar y quitar signos de puntuación\n",
        "    text_tokens.append(text_tokens_ing)\n",
        "    #print(text_tokens[x])\n",
        "\n",
        "    text_tokens_wout_stopwords = []\n",
        "\n",
        "    for word in text_tokens[x] :\n",
        "      if word not in stopwords.words('english'): text_tokens_wout_stopwords.append(word)\n",
        "    print(text_tokens_wout_stopwords)\n",
        "    print(\"El texto tiene \",len(text_tokens_wout_stopwords), \"palabras.\")\n",
        "    x=x+1"
      ],
      "execution_count": 44,
      "outputs": [
        {
          "output_type": "stream",
          "text": [
            "['se', 'une', 'al', 'díasinmujeres', 'la', 'cadena', 'estadounidense', 'hooters', 'publicó', 'que', 'contará', 'con', 'servicio', 'de', 'comida', 'para', 'llevar', 'servicio', 'domicilio', 'este', 'último', 'mediante', 'uber', 'eats']\n",
            "El texto tiene  24 palabras.\n",
            "['en', 'vez', 'de', 'darles', 'el', 'día', 'deberían', 'dejar', 'de', 'cosificar', 'sus', 'empleadas']\n",
            "El texto tiene  12 palabras.\n",
            "['contradictorio', 'que', 'apoye', 'el', 'paro', 'de', 'mujeres', 'rostro', 'pensativo', 'pero', 'pida', 'que', 'su', 'personal', 'femenino', 'utilice', 'esos', 'mini', 'shorts', 'blusas', 'scotadas', 'por', 'ahí', 'debería', 'empezar', 'su', 'cambio']\n",
            "El texto tiene  27 palabras.\n",
            "['la', 'selección', 'femenil', 'de', 'futbol', 'le', 'ganó', 'haití', 'obtuvo', 'su', 'pase', 'al', 'mundial', 'muchas', 'felicidades', 'poniendo', 'el', 'futbol', 'de', 'nuestro', 'país', 'en', 'alto']\n",
            "El texto tiene  23 palabras.\n",
            "['tengo', '1', 'año', '5', 'meses', 'con', 'mi', 'novio', 'nunca', 'ha', 'querido', 'subir', 'una', 'foto', 'conmigo', 'ninguna', 'red', 'social', 'cada', 'like', 'es', 'un', 'amiga', 'date', 'cuenta']\n",
            "El texto tiene  25 palabras.\n",
            "['la', 'tasa', 'de', 'mortalidad', 'por', 'feminicidio', 'creció', '138', 'la', 'del', 'coronavirus', 'es', 'del', '2', 'sea', 'que', 'si', 'hoy', 'en', 'la', 'noche', 'te', 'besuquearas', 'un', 'guey', 'infectado', 'tienes', 'más', 'posibilidades', 'de', 'morir', 'asesinada', 'por', 'el', 'tipo', 'que', 'por', 'el', 'virus', 'buenos', 'días', 'república', 'mexicana']\n",
            "El texto tiene  43 palabras.\n"
          ],
          "name": "stdout"
        }
      ]
    },
    {
      "cell_type": "code",
      "metadata": {
        "id": "eKTcan9D6jfk",
        "colab_type": "code",
        "colab": {}
      },
      "source": [
        ""
      ],
      "execution_count": 0,
      "outputs": []
    }
  ]
}